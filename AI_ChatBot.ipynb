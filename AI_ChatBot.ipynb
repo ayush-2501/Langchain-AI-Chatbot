{
  "nbformat": 4,
  "nbformat_minor": 0,
  "metadata": {
    "colab": {
      "provenance": []
    },
    "kernelspec": {
      "name": "python3",
      "display_name": "Python 3"
    },
    "language_info": {
      "name": "python"
    }
  },
  "cells": [
    {
      "cell_type": "markdown",
      "source": [
        "# Install the packages before going futher"
      ],
      "metadata": {
        "id": "-4PHIrorBk0V"
      }
    },
    {
      "cell_type": "code",
      "source": [
        "!pip install openai langchain langchain-openai"
      ],
      "metadata": {
        "id": "ul0ja8DCiAj5"
      },
      "execution_count": null,
      "outputs": []
    },
    {
      "cell_type": "code",
      "source": [
        "from langchain_openai import ChatOpenAI\n",
        "from langchain.memory import ChatMessageHistory\n",
        "from langchain_core.prompts import ChatPromptTemplate, MessagesPlaceholder\n",
        "from langchain_core.runnables.history import RunnableWithMessageHistory\n",
        "from langchain_core.runnables import RunnablePassthrough\n",
        "from langchain_core.output_parsers import StrOutputParser\n",
        "import datetime\n",
        "import json\n",
        "\n",
        "import warnings\n",
        "warnings.filterwarnings(\"ignore\")"
      ],
      "metadata": {
        "id": "nlvc0ZWy1GV0"
      },
      "execution_count": null,
      "outputs": []
    },
    {
      "cell_type": "markdown",
      "source": [
        "# Load the chatmodel and api key for this notebook"
      ],
      "metadata": {
        "id": "vdRWLfUcBvR8"
      }
    },
    {
      "cell_type": "code",
      "source": [
        "chat = ChatOpenAI(api_key=\"sk-proj-jMSHSP0Wtjorx0IwD0atT3BlbkFJ1FLycDvsLR2SDSRcStGr\",\n",
        "    model=\"gpt-3.5-turbo-1106\")\n",
        "\n",
        "demo_ephemeral_chat_history = ChatMessageHistory()\n",
        "current_date = datetime.datetime.now().date()"
      ],
      "metadata": {
        "id": "tO1wHi0N1b2e"
      },
      "execution_count": null,
      "outputs": []
    },
    {
      "cell_type": "markdown",
      "source": [
        "# Prompt and Message history being setup with memory for last 4 messages only"
      ],
      "metadata": {
        "id": "1Il9EOOXB21I"
      }
    },
    {
      "cell_type": "code",
      "source": [
        "prompt = ChatPromptTemplate.from_messages(\n",
        "    [\n",
        "        (\n",
        "            \"system\",\n",
        "            f\"\"\"You are a helpful assistant designed to output JSON.\n",
        "\n",
        "                Description:\n",
        "                You're tasked with creating an application powered by a Language Model (LLM) that processes user queries regarding company performance metrics. Your application should take user input, extract key information such as the company name, performance metric, and time period, and organize it into a structured JSON format.\n",
        "\n",
        "                Requirements:\n",
        "                Entity: The name of the company mentioned in the query, with the first letter capitalized.\n",
        "                Parameter: The performance metric specified in the query.\n",
        "                Start Date: The beginning date of the requested time period.\n",
        "                End Date: The end date of the requested time period.\n",
        "                If the user query does not explicitly state the start date and/or end date, assume the following defaults:\n",
        "\n",
        "                Start Date: Today's date: {current_date} minus one year.\n",
        "                End Date: {current_date}.\n",
        "                Handle variations in user queries, such as different spellings or abbreviations of company names and metric parameters. Consider adding support for additional date formats or relative date ranges (e.g., \"last quarter\", \"previous month\").\n",
        "\n",
        "                The extracted information should be formatted into a JSON structure with the following schema:\n",
        "                \"entity\": \"<Company Name>\",\n",
        "                \"parameter\": \"<Performance Metric>\",\n",
        "                \"startDate\": \"<Start Date in YYYY-MM-DD format>\",\n",
        "                \"endDate\": \"<End Date in YYYY-MM-DD format>\"\n",
        "\n",
        "                Note: Replace <Company Name> and <Performance Metric> with actual company names and performance metrics extracted from user queries. Ensure the application handles variations in user input for company names, metric parameters, and date formats. Additionally, ensure that the company names always start with a capital letter.\n",
        "\n",
        "                Use the following query as your input\"\"\",\n",
        "        ),\n",
        "        MessagesPlaceholder(variable_name=\"chat_history\"),\n",
        "        (\"human\", \"{input}\"),\n",
        "    ]\n",
        ")\n",
        "\n",
        "chain = prompt | chat | StrOutputParser()\n",
        "\n",
        "chain_with_message_history = RunnableWithMessageHistory(\n",
        "    chain,\n",
        "    lambda session_id: demo_ephemeral_chat_history,\n",
        "    input_messages_key=\"input\",\n",
        "    history_messages_key=\"chat_history\",\n",
        ")"
      ],
      "metadata": {
        "id": "rz-JvzR61LCF"
      },
      "execution_count": null,
      "outputs": []
    },
    {
      "cell_type": "code",
      "source": [
        "def trim_messages(chain_input):\n",
        "    stored_messages = demo_ephemeral_chat_history.messages\n",
        "    if len(stored_messages) <= 4:\n",
        "        return False\n",
        "\n",
        "    demo_ephemeral_chat_history.clear()\n",
        "\n",
        "    for message in stored_messages[-4:]:\n",
        "        demo_ephemeral_chat_history.add_message(message)\n",
        "\n",
        "    return True\n",
        "\n",
        "\n",
        "chain_with_trimming = (\n",
        "    RunnablePassthrough.assign(messages_trimmed=trim_messages)\n",
        "    | chain_with_message_history\n",
        ")"
      ],
      "metadata": {
        "id": "sWZB6nm31K_l"
      },
      "execution_count": null,
      "outputs": []
    },
    {
      "cell_type": "markdown",
      "source": [
        "# Run this to try out the queries and if you want to get out of the loop enter \"bye\""
      ],
      "metadata": {
        "id": "KBG4VR5UCA3U"
      }
    },
    {
      "cell_type": "code",
      "source": [
        "response = []\n",
        "\n",
        "while True:\n",
        "    try:\n",
        "        user_input = input(\"Enter input: \")\n",
        "        if user_input.lower() == \"bye\":\n",
        "            break\n",
        "\n",
        "        response.append(chain_with_trimming.invoke(\n",
        "            {\"input\": user_input},\n",
        "            {\"configurable\": {\"session_id\": \"unused\"}},\n",
        "        ))\n",
        "\n",
        "        json_object = json.loads(response[-1])\n",
        "        json_list = [json_object]\n",
        "        print(json.dumps(json_list, indent=3))\n",
        "    except Exception as e:\n",
        "        print(\"Try again. Unable to extract necessary information from the query.\")"
      ],
      "metadata": {
        "colab": {
          "base_uri": "https://localhost:8080/"
        },
        "id": "lk29hwUD1Ky5",
        "outputId": "2a081438-6291-405c-fc03-c6886ae35080"
      },
      "execution_count": null,
      "outputs": [
        {
          "name": "stdout",
          "output_type": "stream",
          "text": [
            "Enter input: Get me flipkart's GMV for the last one year\n"
          ]
        },
        {
          "output_type": "stream",
          "name": "stderr",
          "text": [
            "WARNING:langchain_core.tracers.base:Parent run a97a59ff-5ef3-4771-bb0c-01339b6930ef not found for run 2082509f-cb6c-430d-830c-ab70661f1483. Treating as a root run.\n"
          ]
        },
        {
          "name": "stdout",
          "output_type": "stream",
          "text": [
            "[\n",
            "   {\n",
            "      \"entity\": \"Flipkart\",\n",
            "      \"parameter\": \"GMV\",\n",
            "      \"startDate\": \"2023-05-10\",\n",
            "      \"endDate\": \"2024-05-10\"\n",
            "   }\n",
            "]\n",
            "Enter input: compare this with amazon\n"
          ]
        },
        {
          "output_type": "stream",
          "name": "stderr",
          "text": [
            "WARNING:langchain_core.tracers.base:Parent run 1c0011d7-f47d-4529-b91e-ee98c53576ee not found for run 03eb0d3b-72ec-4fe2-b059-05fbce3ed6c1. Treating as a root run.\n"
          ]
        },
        {
          "name": "stdout",
          "output_type": "stream",
          "text": [
            "[\n",
            "   {\n",
            "      \"entity\": \"Amazon\",\n",
            "      \"parameter\": \"GMV\",\n",
            "      \"startDate\": \"2023-05-10\",\n",
            "      \"endDate\": \"2024-05-10\"\n",
            "   }\n",
            "]\n",
            "Enter input: try wamart too\n"
          ]
        },
        {
          "output_type": "stream",
          "name": "stderr",
          "text": [
            "WARNING:langchain_core.tracers.base:Parent run bdefab7a-40d0-4013-8bcc-0ee32661eb04 not found for run d5dc8908-9b72-4ba6-aafe-1dd170ea7895. Treating as a root run.\n"
          ]
        },
        {
          "name": "stdout",
          "output_type": "stream",
          "text": [
            "[\n",
            "   {\n",
            "      \"entity\": \"Walmart\",\n",
            "      \"parameter\": \"GMV\",\n",
            "      \"startDate\": \"2023-05-10\",\n",
            "      \"endDate\": \"2024-05-10\"\n",
            "   }\n",
            "]\n",
            "Enter input: bye\n"
          ]
        }
      ]
    },
    {
      "cell_type": "code",
      "source": [],
      "metadata": {
        "id": "mQvF_BhE8_LW"
      },
      "execution_count": null,
      "outputs": []
    }
  ]
}